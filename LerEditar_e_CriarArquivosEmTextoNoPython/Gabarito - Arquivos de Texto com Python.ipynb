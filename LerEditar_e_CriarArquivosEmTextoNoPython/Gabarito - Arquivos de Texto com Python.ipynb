{
 "cells": [
  {
   "cell_type": "markdown",
   "id": "441899aa",
   "metadata": {},
   "source": [
    "# Python e Arquivos de texto (.txt)\n",
    "\n",
    "- Use sempre o método With"
   ]
  },
  {
   "cell_type": "markdown",
   "id": "2d20f181",
   "metadata": {},
   "source": [
    "### Formas de abrir um arquivo de texto"
   ]
  },
  {
   "cell_type": "markdown",
   "id": "b1f4e1e6",
   "metadata": {},
   "source": [
    "- \"r\" -> read -> ler"
   ]
  },
  {
   "cell_type": "code",
   "execution_count": 2,
   "id": "53008492",
   "metadata": {},
   "outputs": [
    {
     "name": "stdout",
     "output_type": "stream",
     "text": [
      "carlos.gimenes.vallesistemas@gmail.com\n",
      "123456\n",
      "O faturamento desse mês foi de: R$15.000\n",
      "\n"
     ]
    }
   ],
   "source": [
    "# read -> para arquivos simples (ex: senhas, tokens, informações únicas)\n",
    "with open(\"/home/carlosgimenes/Dropbox/GitHub/Treinamentos-HashTagProgramacao-Python/LerEditar_e_CriarArquivosEmTextoNoPython/email.txt\", \"r\") as arquivo:\n",
    "    email = arquivo.read()\n",
    "print(email)\n",
    "\n",
    "with open(\"/home/carlosgimenes/Dropbox/GitHub/Treinamentos-HashTagProgramacao-Python/LerEditar_e_CriarArquivosEmTextoNoPython/senha.txt\", \"r\") as arquivo:\n",
    "    senha = arquivo.read()\n",
    "print(senha)\n",
    "\n",
    "# read lines -> para arquivos maiores\n",
    "with open(\"/home/carlosgimenes/Dropbox/GitHub/Treinamentos-HashTagProgramacao-Python/LerEditar_e_CriarArquivosEmTextoNoPython/mensagem.txt\", \"r\", encoding=\"utf-8\") as arquivo:\n",
    "    texto = arquivo.readlines()\n",
    "\n",
    "for frase in texto:\n",
    "    if \"faturamento\" in frase:\n",
    "        print(frase)"
   ]
  },
  {
   "cell_type": "markdown",
   "id": "53f75e99",
   "metadata": {},
   "source": [
    "- \"w\" -> write -> escrever"
   ]
  },
  {
   "cell_type": "code",
   "execution_count": 3,
   "id": "0bf26c38",
   "metadata": {},
   "outputs": [],
   "source": [
    "# substitui por completo o texto que está escrito\n",
    "with open(\"/home/carlosgimenes/Dropbox/GitHub/Treinamentos-HashTagProgramacao-Python/LerEditar_e_CriarArquivosEmTextoNoPython/email.txt\", \"w\") as arquivo:\n",
    "    arquivo.write(\"carlos.gimenes@gmail.com\")"
   ]
  },
  {
   "cell_type": "markdown",
   "id": "14fcf35d",
   "metadata": {},
   "source": [
    "- \"a\" -> append -> adicionar"
   ]
  },
  {
   "cell_type": "code",
   "execution_count": 4,
   "id": "1e6d2b3f",
   "metadata": {},
   "outputs": [],
   "source": [
    "# adiciona uma informação ao texto original\n",
    "with open(\"/home/carlosgimenes/Dropbox/GitHub/Treinamentos-HashTagProgramacao-Python/LerEditar_e_CriarArquivosEmTextoNoPython/email.txt\", \"a\") as arquivo:\n",
    "    arquivo.write(\"\\ncarlos.gimenes@vallesistemas.com.br\")"
   ]
  }
 ],
 "metadata": {
  "kernelspec": {
   "display_name": "Python 3.9.12 ('base')",
   "language": "python",
   "name": "python3"
  },
  "language_info": {
   "codemirror_mode": {
    "name": "ipython",
    "version": 3
   },
   "file_extension": ".py",
   "mimetype": "text/x-python",
   "name": "python",
   "nbconvert_exporter": "python",
   "pygments_lexer": "ipython3",
   "version": "3.9.12"
  },
  "vscode": {
   "interpreter": {
    "hash": "9064a486cfe2d29459461db6730b50d3bc4f86ee3263650e9a1675d174e6e347"
   }
  }
 },
 "nbformat": 4,
 "nbformat_minor": 5
}
