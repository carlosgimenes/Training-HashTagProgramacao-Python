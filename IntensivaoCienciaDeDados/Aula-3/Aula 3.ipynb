{
 "cells": [
  {
   "cell_type": "markdown",
   "metadata": {},
   "source": [
    "# Analisando as vendas da empresa\n",
    "- Vamos utilizar a base disponível em:\n",
    "    - https://www.kaggle.com/datasets/olistbr/brazilian-ecommerce?select=olist_customers_dataset.csv\n",
    "    - Essa é uma base de dados real, porém anonimizada\n",
    "- Fizemos alguns tratamentos nos dados e disponibilizamos em 3 arquivos:\n",
    "    - `base_vendas.xlsx`: todos os dados de venda por item da empresa, onde cada linha representa 1 item vendido\n",
    "    - `base_pagamentos.xlsx`: base com as formas de pagamento usado naquela compra\n",
    "    - `olist_order_reviews_dataset.csv`: base com o review dos pedidos, exatamente como baixada do Kaggle, onde cada linha representa a avaliação de uma pedido\n",
    "- Uma base extra com o agrupamento das categorias também está disponível em `verifica_base.xlsx`"
   ]
  },
  {
   "cell_type": "markdown",
   "metadata": {},
   "source": [
    "## Importando a base"
   ]
  },
  {
   "cell_type": "code",
   "execution_count": null,
   "metadata": {},
   "outputs": [],
   "source": [
    "# Importando o pandas\n",
    "import pandas as pd"
   ]
  },
  {
   "cell_type": "code",
   "execution_count": null,
   "metadata": {},
   "outputs": [],
   "source": [
    "# Ignorando alguns erros que possam aparecer\n",
    "import warnings\n",
    "warnings.filterwarnings('ignore')"
   ]
  },
  {
   "cell_type": "code",
   "execution_count": null,
   "metadata": {},
   "outputs": [],
   "source": [
    "# Importando a base de vendas do excel\n",
    "vendas = pd.read_excel('base_vendas.xlsx')"
   ]
  },
  {
   "cell_type": "code",
   "execution_count": null,
   "metadata": {},
   "outputs": [],
   "source": [
    "# Importando a base de grupos\n",
    "grupos = pd.read_excel('verifica_base.xlsx')"
   ]
  },
  {
   "cell_type": "code",
   "execution_count": null,
   "metadata": {},
   "outputs": [],
   "source": [
    "# Podemos unir essas duas bases utilizando o merge\n",
    "vendas = pd.merge(\n",
    "    vendas,\n",
    "    grupos,\n",
    "    how='left',\n",
    "    left_on = 'product_category_name', right_on = 'categoria'\n",
    ")"
   ]
  },
  {
   "cell_type": "code",
   "execution_count": null,
   "metadata": {},
   "outputs": [],
   "source": [
    "# E também apagar as colunas que não estamos usando\n",
    "vendas = vendas.drop(['product_category_name','categoria'],axis=1)"
   ]
  },
  {
   "cell_type": "code",
   "execution_count": null,
   "metadata": {},
   "outputs": [],
   "source": [
    "# Verificando as informações da tabela\n",
    "vendas.info()"
   ]
  },
  {
   "cell_type": "markdown",
   "metadata": {},
   "source": [
    "### Tratando valores vazios e outliers"
   ]
  },
  {
   "cell_type": "code",
   "execution_count": null,
   "metadata": {},
   "outputs": [],
   "source": [
    "vendas.isnull().sum()"
   ]
  },
  {
   "cell_type": "markdown",
   "metadata": {},
   "source": [
    "**Retirando valores nulos das vendas**"
   ]
  },
  {
   "cell_type": "code",
   "execution_count": null,
   "metadata": {},
   "outputs": [],
   "source": [
    "# Retirando os valores onde o preço é vazio\n",
    "vendas = vendas[vendas.price.notnull()]"
   ]
  },
  {
   "cell_type": "markdown",
   "metadata": {},
   "source": [
    "**Desconsiderando as vendas canceladas**"
   ]
  },
  {
   "cell_type": "code",
   "execution_count": null,
   "metadata": {},
   "outputs": [],
   "source": [
    "# Retirando as vendas que foram canceladas\n",
    "vendas = vendas[vendas.order_status != 'canceled']"
   ]
  },
  {
   "cell_type": "markdown",
   "metadata": {},
   "source": [
    "**Retirando os outliers das datas**"
   ]
  },
  {
   "cell_type": "code",
   "execution_count": null,
   "metadata": {},
   "outputs": [],
   "source": [
    "# Retirando a black friday\n",
    "import datetime as dt\n",
    "vendas = vendas[vendas.order_purchase_timestamp != dt.datetime(2017,11,24)]"
   ]
  },
  {
   "cell_type": "code",
   "execution_count": null,
   "metadata": {},
   "outputs": [],
   "source": [
    "# Retirando o dia após a black friday\n",
    "vendas = vendas[vendas.order_purchase_timestamp != dt.datetime(2017,11,25)]"
   ]
  },
  {
   "cell_type": "markdown",
   "metadata": {},
   "source": [
    "**Atualizando categorias vazias como outros**"
   ]
  },
  {
   "cell_type": "code",
   "execution_count": null,
   "metadata": {},
   "outputs": [],
   "source": [
    "# Substituindo valores vazios no grupo por nulo\n",
    "vendas.loc[vendas.grupo.isnull(),'grupo'] = 'outros'"
   ]
  },
  {
   "cell_type": "markdown",
   "metadata": {},
   "source": [
    "**Verificando valores vazios**"
   ]
  },
  {
   "cell_type": "code",
   "execution_count": null,
   "metadata": {},
   "outputs": [],
   "source": [
    "# Contando quantos valores vazios existem em cada coluna\n",
    "vendas.isnull().sum()"
   ]
  },
  {
   "cell_type": "code",
   "execution_count": null,
   "metadata": {},
   "outputs": [],
   "source": [
    "# Entendendo as 15 colunas com order_approved_at vazias\n",
    "vendas[vendas.order_approved_at.isnull()]"
   ]
  },
  {
   "cell_type": "code",
   "execution_count": null,
   "metadata": {},
   "outputs": [],
   "source": [
    "# Apagando essas colunas\n",
    "vendas = vendas.drop('order_approved_at',axis=1)"
   ]
  },
  {
   "cell_type": "markdown",
   "metadata": {},
   "source": [
    "**Verificando os outliers**"
   ]
  },
  {
   "cell_type": "code",
   "execution_count": null,
   "metadata": {},
   "outputs": [],
   "source": [
    "# Criando um boxplot\n",
    "vendas.groupby('order_purchase_timestamp')['price'].sum().plot.box();"
   ]
  },
  {
   "cell_type": "markdown",
   "metadata": {},
   "source": [
    "**Podemos exportar essa base já tratada para o excel**\n",
    "- https://pandas.pydata.org/docs/getting_started/"
   ]
  },
  {
   "cell_type": "code",
   "execution_count": null,
   "metadata": {},
   "outputs": [],
   "source": [
    "# Exportando para o Excel"
   ]
  },
  {
   "cell_type": "markdown",
   "metadata": {},
   "source": [
    "# Qual pergunta eu quero responder?"
   ]
  },
  {
   "cell_type": "markdown",
   "metadata": {},
   "source": [
    "### <font color='blue'>Qual vai ser a venda valor nos próximos dias?</font>"
   ]
  },
  {
   "cell_type": "code",
   "execution_count": null,
   "metadata": {},
   "outputs": [],
   "source": [
    "vendas.head(3)"
   ]
  },
  {
   "cell_type": "code",
   "execution_count": null,
   "metadata": {},
   "outputs": [],
   "source": [
    "# Visualizando a venda pelo tempo\n",
    "vendas.groupby('order_purchase_timestamp')['price'].sum().plot();"
   ]
  },
  {
   "cell_type": "code",
   "execution_count": null,
   "metadata": {},
   "outputs": [],
   "source": [
    "# Importando o matplotlib\n",
    "import matplotlib.pyplot as plt"
   ]
  },
  {
   "cell_type": "code",
   "execution_count": null,
   "metadata": {},
   "outputs": [],
   "source": [
    "# Podemos criar uma nova variável para a venda por dia\n",
    "venda_vlr = vendas.groupby('order_purchase_timestamp')['price'].sum()"
   ]
  },
  {
   "cell_type": "code",
   "execution_count": null,
   "metadata": {},
   "outputs": [],
   "source": [
    "# E então traçar o gráfico dessa variável\n",
    "fig, ax = plt.subplots(figsize=(12,6))\n",
    "\n",
    "x = venda_vlr.index\n",
    "y = venda_vlr.values\n",
    "\n",
    "ax.plot(x, y, linewidth=2.0)\n",
    "\n",
    "plt.show()"
   ]
  },
  {
   "cell_type": "code",
   "execution_count": null,
   "metadata": {},
   "outputs": [],
   "source": [
    "venda_vlr.index[-1]"
   ]
  },
  {
   "cell_type": "markdown",
   "metadata": {},
   "source": [
    "<a id='grafico_inicial'></a>\n",
    "**Podemos traçar um gráfico para verificar como ficou a nossa estimativa**"
   ]
  },
  {
   "cell_type": "code",
   "execution_count": null,
   "metadata": {},
   "outputs": [],
   "source": [
    "# Eu posso traçar uma reta qualquer para estimar a venda\n",
    "\n",
    "fig, ax = plt.subplots(figsize=(12,6))\n",
    "\n",
    "x = venda_vlr.index\n",
    "y = venda_vlr.values\n",
    "\n",
    "ax.plot(x, y, linewidth=2.0)\n",
    "\n",
    "x_reta = [venda_vlr.index[0],venda_vlr.index[-1]]\n",
    "y_reta = [5000,35000]\n",
    "\n",
    "ax.plot(x_reta, y_reta,'--r')\n",
    "\n",
    "plt.show()"
   ]
  },
  {
   "cell_type": "code",
   "execution_count": null,
   "metadata": {},
   "outputs": [],
   "source": [
    "# Podemos guardar essa previsão em uma variável no nosso DataFrame"
   ]
  },
  {
   "cell_type": "markdown",
   "metadata": {},
   "source": [
    "## Qual é a melhor forma de traçar essa reta?\n",
    "- Utilizando a regressão linear do Scikit-Learn\n",
    "    - https://scikit-learn.org/stable/modules/generated/sklearn.linear_model.LinearRegression.html"
   ]
  },
  {
   "cell_type": "code",
   "execution_count": null,
   "metadata": {},
   "outputs": [],
   "source": [
    "# Ajustando a venda_vlr como um DataFrame\n",
    "venda_vlr = venda_vlr.reset_index()\n",
    "venda_vlr"
   ]
  },
  {
   "cell_type": "code",
   "execution_count": null,
   "metadata": {},
   "outputs": [],
   "source": [
    "# Criando uma regressao"
   ]
  },
  {
   "cell_type": "code",
   "execution_count": null,
   "metadata": {},
   "outputs": [],
   "source": [
    "# Antes de usar o Scikit-Learn, vamos tratar a data para conseguir colocar no modelo\n",
    "# Importando o datetime\n",
    "import datetime as dt"
   ]
  },
  {
   "cell_type": "code",
   "execution_count": null,
   "metadata": {},
   "outputs": [],
   "source": [
    "venda_vlr.tail(3)"
   ]
  },
  {
   "cell_type": "code",
   "execution_count": null,
   "metadata": {},
   "outputs": [],
   "source": [
    "# Fazendo a diferença entre o dia atual e o menor dia\n",
    "venda_vlr['ajuste_data'] = (venda_vlr.order_purchase_timestamp - venda_vlr.order_purchase_timestamp.min()).dt.days"
   ]
  },
  {
   "cell_type": "code",
   "execution_count": null,
   "metadata": {},
   "outputs": [],
   "source": [
    "# Importando a regressão linear do Scikit-Learn\n",
    "from sklearn.linear_model import LinearRegression"
   ]
  },
  {
   "cell_type": "code",
   "execution_count": null,
   "metadata": {},
   "outputs": [],
   "source": [
    "# Separando em X e y nossos dados\n",
    "X = venda_vlr.ajuste_data.values.reshape(-1,1)\n",
    "y = venda_vlr.price"
   ]
  },
  {
   "cell_type": "code",
   "execution_count": null,
   "metadata": {},
   "outputs": [],
   "source": [
    "# Colocando nossos dados no modelo\n",
    "reg = LinearRegression().fit(X, y)"
   ]
  },
  {
   "cell_type": "code",
   "execution_count": null,
   "metadata": {},
   "outputs": [],
   "source": [
    "# Verificando o score\n",
    "reg.score(X, y)"
   ]
  },
  {
   "cell_type": "code",
   "execution_count": null,
   "metadata": {},
   "outputs": [],
   "source": [
    "# o coeficiente angular dessa reta\n",
    "reg.coef_"
   ]
  },
  {
   "cell_type": "code",
   "execution_count": null,
   "metadata": {},
   "outputs": [],
   "source": [
    "# e o coeficiente linear\n",
    "reg.intercept_"
   ]
  },
  {
   "cell_type": "code",
   "execution_count": null,
   "metadata": {},
   "outputs": [],
   "source": [
    "venda_vlr.head(3)"
   ]
  },
  {
   "cell_type": "code",
   "execution_count": null,
   "metadata": {},
   "outputs": [],
   "source": [
    "# Podemos adicionar essa reta no gráfico que criamos\n",
    "fig, ax = plt.subplots(figsize=(12,6))\n",
    "\n",
    "x = venda_vlr.ajuste_data\n",
    "y = venda_vlr.price\n",
    "\n",
    "ax.plot(x, y, linewidth=2.0)\n",
    "\n",
    "x_reta = venda_vlr.ajuste_data\n",
    "y_reta = x_reta*reg.coef_[0] + reg.intercept_\n",
    "\n",
    "ax.plot(x_reta, y_reta,'--r')\n",
    "\n",
    "plt.show()"
   ]
  },
  {
   "cell_type": "markdown",
   "metadata": {},
   "source": [
    "<a id=\"vendas_grupo\"></a>\n",
    "### <font color='blue'>Na verdade, eu quero saber qual a venda de determinados grupo</font>"
   ]
  },
  {
   "cell_type": "code",
   "execution_count": null,
   "metadata": {},
   "outputs": [],
   "source": [
    "# Visualizando novamente a base de vendas\n",
    "vendas.head(3)"
   ]
  },
  {
   "cell_type": "code",
   "execution_count": null,
   "metadata": {},
   "outputs": [],
   "source": [
    "# Agrupando a venda por grupo\n",
    "venda_grupos = vendas.groupby(['order_purchase_timestamp','grupo'])['price'].sum().reset_index()"
   ]
  },
  {
   "cell_type": "code",
   "execution_count": null,
   "metadata": {},
   "outputs": [],
   "source": [
    "# Visualizando o plot de alguns grupos\n",
    "venda_grupos.loc[venda_grupos.grupo == 'carro','price'].plot();"
   ]
  },
  {
   "cell_type": "code",
   "execution_count": null,
   "metadata": {},
   "outputs": [],
   "source": [
    "# Agrupando a venda por data e grupo\n",
    "venda_grupos = vendas.groupby(['order_purchase_timestamp','grupo'])['price'].sum().reset_index()"
   ]
  },
  {
   "cell_type": "code",
   "execution_count": null,
   "metadata": {},
   "outputs": [],
   "source": [
    "# Verificando a data máxima\n",
    "venda_grupos.order_purchase_timestamp.max()"
   ]
  },
  {
   "cell_type": "code",
   "execution_count": null,
   "metadata": {},
   "outputs": [],
   "source": [
    "# E o shape desse DataFrame\n",
    "venda_grupos.shape"
   ]
  },
  {
   "cell_type": "code",
   "execution_count": null,
   "metadata": {},
   "outputs": [],
   "source": [
    "# Podemos então separar os nossos dados em treino e teste\n",
    "treino = venda_grupos[venda_grupos.order_purchase_timestamp <= dt.datetime(2018,3,1)]\n",
    "teste = venda_grupos[venda_grupos.order_purchase_timestamp > dt.datetime(2018,3,1)]\n",
    "\n",
    "# Verificando o tamanho da base de treino\n",
    "print(treino.shape)\n",
    "\n",
    "# Verificando o tamanho da base de teste\n",
    "print(teste.shape)\n",
    "\n",
    "# Verificando a proporção de teste da nossa base\n",
    "print(teste.shape[0]/venda_grupos.shape[0])"
   ]
  },
  {
   "cell_type": "code",
   "execution_count": null,
   "metadata": {},
   "outputs": [],
   "source": [
    "# Podemos então visualizar essa base de treino e de teste\n",
    "fig, ax = plt.subplots(figsize=(12,6))\n",
    "\n",
    "filtro = 'beleza'\n",
    "\n",
    "base_treino = treino[treino.grupo == filtro]\n",
    "base_teste = teste[teste.grupo == filtro]\n",
    "\n",
    "ax.plot(base_treino.order_purchase_timestamp, base_treino.price)\n",
    "ax.plot(base_teste.order_purchase_timestamp, base_teste.price,'--r')\n",
    "\n",
    "plt.show()"
   ]
  },
  {
   "cell_type": "markdown",
   "metadata": {},
   "source": [
    "## Criando um modelo para estimar a venda desses pontos"
   ]
  },
  {
   "cell_type": "code",
   "execution_count": null,
   "metadata": {},
   "outputs": [],
   "source": [
    "# Visualizando a base de treino\n",
    "treino.head(3)"
   ]
  },
  {
   "cell_type": "code",
   "execution_count": null,
   "metadata": {},
   "outputs": [],
   "source": [
    "# Separando X e y\n",
    "X_treino = treino[['order_purchase_timestamp','grupo']]\n",
    "y_treino = treino.price"
   ]
  },
  {
   "cell_type": "code",
   "execution_count": null,
   "metadata": {},
   "outputs": [],
   "source": [
    "# Fazendo a regressão para esses dados\n",
    "reg = LinearRegression().fit(X_treino, y_treino)"
   ]
  },
  {
   "cell_type": "markdown",
   "metadata": {},
   "source": [
    "**O primeiro erro indica que não podemos passar um `Timestamp` para o modelo** <br>\n",
    "- Vamos então fazer o tratamento de datas que já mostramos anteriormente"
   ]
  },
  {
   "cell_type": "code",
   "execution_count": null,
   "metadata": {},
   "outputs": [],
   "source": [
    "# Utilizando o mesmo tratamento que fizemos na data\n",
    "venda_grupos['ajuste_data'] = (venda_grupos.order_purchase_timestamp - venda_grupos.order_purchase_timestamp.min()).dt.days\n",
    "\n",
    "treino = venda_grupos[venda_grupos.order_purchase_timestamp <= dt.datetime(2018,3,1)]\n",
    "teste = venda_grupos[venda_grupos.order_purchase_timestamp > dt.datetime(2018,3,1)]"
   ]
  },
  {
   "cell_type": "code",
   "execution_count": null,
   "metadata": {},
   "outputs": [],
   "source": [
    "# Novamente separando X e y\n",
    "X_treino = treino[['ajuste_data','grupo']]\n",
    "y_treino = treino.price"
   ]
  },
  {
   "cell_type": "code",
   "execution_count": null,
   "metadata": {},
   "outputs": [],
   "source": [
    "# Novamente fazendo a regressão\n",
    "reg = LinearRegression().fit(X_treino, y_treino)"
   ]
  },
  {
   "cell_type": "markdown",
   "metadata": {},
   "source": [
    "**Já o segundo erro indica que também não podemos ter `valores em texto`** <br>\n",
    "`ValueError: could not convert string to float`\n",
    "\n",
    "- Para conseguir resolver, podemos usar o `.get_dummies()` do próprio pandas\n",
    "    - https://pandas.pydata.org/docs/reference/api/pandas.get_dummies.html"
   ]
  },
  {
   "cell_type": "code",
   "execution_count": null,
   "metadata": {},
   "outputs": [],
   "source": [
    "# Fazendo o get_dummies para a base de treino\n",
    "treino = pd.concat([treino,pd.get_dummies(treino.grupo)],axis=1)"
   ]
  },
  {
   "cell_type": "code",
   "execution_count": null,
   "metadata": {},
   "outputs": [],
   "source": [
    "# Separando X e y\n",
    "X_treino = treino.drop(['order_purchase_timestamp','grupo','price'],axis=1)\n",
    "y_treino = treino.price"
   ]
  },
  {
   "cell_type": "code",
   "execution_count": null,
   "metadata": {},
   "outputs": [],
   "source": [
    "# E fazendo a regressão\n",
    "reg = LinearRegression().fit(X_treino, y_treino)"
   ]
  },
  {
   "cell_type": "code",
   "execution_count": null,
   "metadata": {},
   "outputs": [],
   "source": [
    "# Verificando o score\n",
    "reg.score(X_treino, y_treino)"
   ]
  },
  {
   "cell_type": "code",
   "execution_count": null,
   "metadata": {},
   "outputs": [],
   "source": [
    "# o coeficiente angular\n",
    "reg.coef_"
   ]
  },
  {
   "cell_type": "code",
   "execution_count": null,
   "metadata": {},
   "outputs": [],
   "source": [
    "# e o coeficiente linear\n",
    "reg.intercept_"
   ]
  },
  {
   "cell_type": "code",
   "execution_count": null,
   "metadata": {},
   "outputs": [],
   "source": [
    "# Salvando na base de treino a previsao que acabamos de fazer\n",
    "treino['previsao'] = reg.predict(X_treino)"
   ]
  },
  {
   "cell_type": "code",
   "execution_count": null,
   "metadata": {},
   "outputs": [],
   "source": [
    "# Podemos então visualizar essa base de treino e de teste\n",
    "fig, ax = plt.subplots(figsize=(12,6))\n",
    "\n",
    "filtro = 'beleza'\n",
    "\n",
    "base_treino = treino[treino.grupo == filtro]\n",
    "base_teste = teste[teste.grupo == filtro]\n",
    "\n",
    "ax.plot(base_treino.order_purchase_timestamp, base_treino.price)\n",
    "ax.plot(base_teste.order_purchase_timestamp, base_teste.price)\n",
    "ax.plot(base_treino.order_purchase_timestamp,base_treino.previsao,'--r')\n",
    "\n",
    "plt.show()"
   ]
  },
  {
   "cell_type": "markdown",
   "metadata": {},
   "source": [
    "### Será que meu modelo aprendeu ou apenas decorou?"
   ]
  },
  {
   "cell_type": "code",
   "execution_count": null,
   "metadata": {},
   "outputs": [],
   "source": [
    "# Verificando a base de teste\n",
    "teste.head(3)"
   ]
  },
  {
   "cell_type": "code",
   "execution_count": null,
   "metadata": {},
   "outputs": [],
   "source": [
    "# E a transformação do grupo\n",
    "teste = pd.concat([teste,pd.get_dummies(teste.grupo)],axis=1)"
   ]
  },
  {
   "cell_type": "code",
   "execution_count": null,
   "metadata": {},
   "outputs": [],
   "source": [
    "# Separando X e y\n",
    "X_teste = teste.drop(['order_purchase_timestamp','grupo','price'],axis=1)\n",
    "y_teste = teste.price"
   ]
  },
  {
   "cell_type": "code",
   "execution_count": null,
   "metadata": {},
   "outputs": [],
   "source": [
    "# E fazendo a previsão para a base de teste\n",
    "teste['previsao'] = reg.predict(X_teste)"
   ]
  },
  {
   "cell_type": "code",
   "execution_count": null,
   "metadata": {},
   "outputs": [],
   "source": [
    "# Podemos visualizar de forma gráfica essa previsão\n",
    "fig, ax = plt.subplots(figsize=(12,6))\n",
    "\n",
    "filtro = 'beleza'\n",
    "\n",
    "base_treino = treino[treino.grupo == filtro]\n",
    "base_teste = teste[teste.grupo == filtro]\n",
    "\n",
    "ax.plot(base_treino.order_purchase_timestamp, base_treino.price)\n",
    "ax.plot(base_teste.order_purchase_timestamp, base_teste.price)\n",
    "ax.plot(base_treino.order_purchase_timestamp,base_treino.previsao,'--r')\n",
    "ax.plot(base_teste.order_purchase_timestamp,base_teste.previsao,'--r')\n",
    "\n",
    "plt.show()"
   ]
  },
  {
   "cell_type": "markdown",
   "metadata": {},
   "source": [
    "### Podemos usar qualquer um dos nossos dados, desde que tratados, para colocar no modelo"
   ]
  },
  {
   "cell_type": "code",
   "execution_count": null,
   "metadata": {},
   "outputs": [],
   "source": [
    "# Verificando novamente a base de venda"
   ]
  },
  {
   "cell_type": "markdown",
   "metadata": {},
   "source": [
    "**No [primeiro exemplo](#vendas_grupo), agrupamos pela data completa da compra**"
   ]
  },
  {
   "cell_type": "code",
   "execution_count": null,
   "metadata": {},
   "outputs": [],
   "source": [
    "# Agora vamos utilizar as colunas mes_compra e ano_compra"
   ]
  },
  {
   "cell_type": "code",
   "execution_count": null,
   "metadata": {},
   "outputs": [],
   "source": [
    "# Separando em treino e teste"
   ]
  },
  {
   "cell_type": "code",
   "execution_count": null,
   "metadata": {},
   "outputs": [],
   "source": [
    "# Agora vamos criar novamente o nosso modelo\n",
    "\n",
    "# Separando X e y para treino\n",
    "\n",
    "# Fazendo o fit do modeo               \n",
    "\n",
    "# Fazendo a previsão para a base de treino\n",
    "\n",
    "# Fazendo a previsão para a base de teste"
   ]
  },
  {
   "cell_type": "code",
   "execution_count": null,
   "metadata": {},
   "outputs": [],
   "source": [
    "# Visualizando de forma gráfica"
   ]
  },
  {
   "cell_type": "markdown",
   "metadata": {},
   "source": [
    "**Podemos usar esses valores previstos por categoria para fazer a previsão diária** <br>\n",
    "**Será que isso melhorara nosso resultado?** <br>\n",
    "**Vamos comparar ao [gráfico que vimos anteriormente](#grafico_inicial)**"
   ]
  },
  {
   "cell_type": "code",
   "execution_count": null,
   "metadata": {},
   "outputs": [],
   "source": [
    "# Podemos agrupar esses valores por dia"
   ]
  },
  {
   "cell_type": "code",
   "execution_count": null,
   "metadata": {},
   "outputs": [],
   "source": [
    "# E também visualizar graficamente"
   ]
  },
  {
   "cell_type": "code",
   "execution_count": null,
   "metadata": {},
   "outputs": [],
   "source": [
    "# Adicionando a reta que fizemos anteriormente"
   ]
  },
  {
   "cell_type": "markdown",
   "metadata": {},
   "source": [
    "## Testando a Árvore de Regressão\n",
    "- https://scikit-learn.org/stable/modules/generated/sklearn.tree.DecisionTreeRegressor.html"
   ]
  },
  {
   "cell_type": "code",
   "execution_count": null,
   "metadata": {},
   "outputs": [],
   "source": [
    "# Verificando a base de treino"
   ]
  },
  {
   "cell_type": "code",
   "execution_count": null,
   "metadata": {},
   "outputs": [],
   "source": [
    "# Separando X e y de treino"
   ]
  },
  {
   "cell_type": "code",
   "execution_count": null,
   "metadata": {},
   "outputs": [],
   "source": [
    "# Importando o DecisionTreeRegressor"
   ]
  },
  {
   "cell_type": "code",
   "execution_count": null,
   "metadata": {},
   "outputs": [],
   "source": [
    "# Criando o nosso regressor"
   ]
  },
  {
   "cell_type": "code",
   "execution_count": null,
   "metadata": {},
   "outputs": [],
   "source": [
    "# Fazendo o fit do modelo"
   ]
  },
  {
   "cell_type": "code",
   "execution_count": null,
   "metadata": {},
   "outputs": [],
   "source": [
    "# Verificando o score"
   ]
  },
  {
   "cell_type": "code",
   "execution_count": null,
   "metadata": {},
   "outputs": [],
   "source": [
    "# Fazendo a previsão pro treino e teste"
   ]
  },
  {
   "cell_type": "code",
   "execution_count": null,
   "metadata": {},
   "outputs": [],
   "source": [
    "# Adicionando esses dados no gráfico anterior"
   ]
  },
  {
   "cell_type": "markdown",
   "metadata": {},
   "source": [
    "**O próprio Scikit-Learn te ajuda a analisar os erros**\n",
    "- https://scikit-learn.org/stable/modules/generated/sklearn.metrics.mean_absolute_error.html"
   ]
  },
  {
   "cell_type": "code",
   "execution_count": null,
   "metadata": {},
   "outputs": [],
   "source": [
    "# Importando o erro médio absoluto"
   ]
  },
  {
   "cell_type": "code",
   "execution_count": null,
   "metadata": {},
   "outputs": [],
   "source": [
    "# Analisando o erro na regressao"
   ]
  },
  {
   "cell_type": "code",
   "execution_count": null,
   "metadata": {},
   "outputs": [],
   "source": [
    "# Analisando o erro na regressao"
   ]
  },
  {
   "cell_type": "markdown",
   "metadata": {},
   "source": [
    "## Agora testando o Support Vector Regression\n",
    "- https://scikit-learn.org/stable/modules/svm.html#regression <br><br><br><br>\n",
    "\n",
    "...na próxima aula!"
   ]
  }
 ],
 "metadata": {
  "kernelspec": {
   "display_name": "Python 3 (ipykernel)",
   "language": "python",
   "name": "python3"
  },
  "language_info": {
   "codemirror_mode": {
    "name": "ipython",
    "version": 3
   },
   "file_extension": ".py",
   "mimetype": "text/x-python",
   "name": "python",
   "nbconvert_exporter": "python",
   "pygments_lexer": "ipython3",
   "version": "3.9.12"
  }
 },
 "nbformat": 4,
 "nbformat_minor": 4
}
